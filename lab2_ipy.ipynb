{
  "nbformat": 4,
  "nbformat_minor": 0,
  "metadata": {
    "colab": {
      "provenance": []
    },
    "kernelspec": {
      "name": "python3",
      "display_name": "Python 3"
    },
    "language_info": {
      "name": "python"
    }
  },
  "cells": [
    {
      "cell_type": "code",
      "execution_count": null,
      "metadata": {
        "id": "jfaJ2azM4s5X"
      },
      "outputs": [],
      "source": [
        "!pip install Numpy"
      ]
    },
    {
      "cell_type": "markdown",
      "source": [
        "**1.List**\n",
        "\n"
      ],
      "metadata": {
        "id": "pRCfOoAH5WXT"
      }
    },
    {
      "cell_type": "code",
      "source": [
        "# Create a list of 10 integers\n",
        "numbers = [12, 45, 7, 89, 23, 56, 34, 90, 11, 67]\n",
        "print(\"Original list:\", numbers)\n",
        "\n",
        "# Find sum, min, max\n",
        "print(\"Sum:\", sum(numbers))\n",
        "print(\"Minimum:\", min(numbers))\n",
        "print(\"Maximum:\", max(numbers))\n",
        "\n",
        "# Add a new element\n",
        "numbers.append(100)\n",
        "print(\"\\nAfter adding 100:\", numbers)\n",
        "\n",
        "# Remove an element\n",
        "numbers.remove(23)\n",
        "print(\"After removing 23:\", numbers)\n",
        "\n",
        "# Update an element\n",
        "numbers[2] = 200\n",
        "print(\"After updating 3rd element to 200:\", numbers)\n",
        "\n",
        "# Sort in ascending order\n",
        "asc_list = sorted(numbers)\n",
        "print(\"\\nAscending order:\", asc_list)\n",
        "\n",
        "# Sort in descending order\n",
        "desc_list = sorted(numbers, reverse=True)\n",
        "print(\"Descending order:\", desc_list)\n"
      ],
      "metadata": {
        "colab": {
          "base_uri": "https://localhost:8080/"
        },
        "id": "FIADFOkXF0U-",
        "outputId": "1e9521f2-4b89-4de8-f902-e4ae73bb15d9"
      },
      "execution_count": 1,
      "outputs": [
        {
          "output_type": "stream",
          "name": "stdout",
          "text": [
            "Original list: [12, 45, 7, 89, 23, 56, 34, 90, 11, 67]\n",
            "Sum: 434\n",
            "Minimum: 7\n",
            "Maximum: 90\n",
            "\n",
            "After adding 100: [12, 45, 7, 89, 23, 56, 34, 90, 11, 67, 100]\n",
            "After removing 23: [12, 45, 7, 89, 56, 34, 90, 11, 67, 100]\n",
            "After updating 3rd element to 200: [12, 45, 200, 89, 56, 34, 90, 11, 67, 100]\n",
            "\n",
            "Ascending order: [11, 12, 34, 45, 56, 67, 89, 90, 100, 200]\n",
            "Descending order: [200, 100, 90, 89, 67, 56, 45, 34, 12, 11]\n"
          ]
        }
      ]
    },
    {
      "cell_type": "markdown",
      "source": [
        "**2.Tuples**"
      ],
      "metadata": {
        "id": "fS0NaaCj5Whv"
      }
    },
    {
      "cell_type": "code",
      "source": [
        "fruits = (\"Apple\", \"Banana\", \"Mango\", \"Orange\", \"Grapes\")\n",
        "print(\"Original tuple:\", fruits)\n",
        "\n",
        "# Convert to list\n",
        "fruits_list = list(fruits)\n",
        "\n",
        "# Modify element\n",
        "fruits_list[2] = \"Pineapple\"\n",
        "\n",
        "# Convert back to tuple\n",
        "fruits = tuple(fruits_list)\n",
        "print(\"Modified tuple:\", fruits)\n"
      ],
      "metadata": {
        "colab": {
          "base_uri": "https://localhost:8080/"
        },
        "id": "8iHf_OhXF9n7",
        "outputId": "10449b57-3930-4da1-aa01-e65077e89dfb"
      },
      "execution_count": 12,
      "outputs": [
        {
          "output_type": "stream",
          "name": "stdout",
          "text": [
            "Original tuple: ('Apple', 'Banana', 'Mango', 'Orange', 'Grapes')\n",
            "Modified tuple: ('Apple', 'Banana', 'Pineapple', 'Orange', 'Grapes')\n"
          ]
        }
      ]
    },
    {
      "cell_type": "markdown",
      "source": [
        "**4.Dictionaries**\n",
        "\n",
        "```\n",
        "# This is formatted as code\n",
        "```\n",
        "\n"
      ],
      "metadata": {
        "id": "KXZzJ6Ka5W8t"
      }
    },
    {
      "cell_type": "code",
      "source": [
        "# Create dictionary with student names and marks\n",
        "students = {\n",
        "    \"Ali\": 85,\n",
        "    \"Sara\": 92,\n",
        "    \"Ahmed\": 78,\n",
        "    \"Zara\": 88,\n",
        "    \"Usman\": 95\n",
        "}\n",
        "\n",
        "# Print keys (student names)\n",
        "print(\"Student Names (Keys):\", students.keys())\n",
        "\n",
        "# Print values (marks)\n",
        "print(\"Marks (Values):\", students.values())\n",
        "\n",
        "# Print keys and values together\n",
        "print(\"\\nStudent Marks List:\")\n",
        "for name, marks in students.items():\n",
        "    print(name, \":\", marks)\n",
        "\n",
        "\n",
        "\n",
        "\n",
        "print(\"Before update:\", students)\n",
        "# Update marks for an existing key\n",
        "students[\"Ahmed\"] = 90   # change Ahmed's marks from 78 → 90\n",
        "\n",
        "print(\"After update:\", students)"
      ],
      "metadata": {
        "colab": {
          "base_uri": "https://localhost:8080/"
        },
        "id": "DIGmyjbFJERE",
        "outputId": "57b818dc-b840-4f9b-9ce0-d5de208d836a"
      },
      "execution_count": 17,
      "outputs": [
        {
          "output_type": "stream",
          "name": "stdout",
          "text": [
            "Student Names (Keys): dict_keys(['Ali', 'Sara', 'Ahmed', 'Zara', 'Usman'])\n",
            "Marks (Values): dict_values([85, 92, 78, 88, 95])\n",
            "\n",
            "Student Marks List:\n",
            "Ali : 85\n",
            "Sara : 92\n",
            "Ahmed : 78\n",
            "Zara : 88\n",
            "Usman : 95\n",
            "Before update: {'Ali': 85, 'Sara': 92, 'Ahmed': 78, 'Zara': 88, 'Usman': 95}\n",
            "After update: {'Ali': 85, 'Sara': 92, 'Ahmed': 90, 'Zara': 88, 'Usman': 95}\n"
          ]
        }
      ]
    },
    {
      "cell_type": "markdown",
      "source": [
        "**3.Sets**"
      ],
      "metadata": {
        "id": "lGCb6V6S5Wv6"
      }
    },
    {
      "cell_type": "code",
      "source": [
        "# Create two sets\n",
        "set1 = {1, 2, 3, 4, 5, 6}\n",
        "set2 = {4, 5, 6, 7, 8, 9}\n",
        "\n",
        "print(\"Set 1:\", set1)\n",
        "print(\"Set 2:\", set2)\n",
        "\n",
        "# Union (all unique elements from both sets)\n",
        "union_set = set1 | set2\n",
        "print(\"\\nUnion (all elements):\", union_set)\n",
        "\n",
        "# Intersection (common elements)\n",
        "sum_common = set1 & set2\n",
        "print(\"Common elements (sum_common):\", sum_common)\n",
        "\n",
        "# Difference (unique elements in each set)\n",
        "unique_set1 = set1 - set2   # in set1 but not in set2\n",
        "unique_set2 = set2 - set1   # in set2 but not in set1\n",
        "print(\"Unique in Set1:\", unique_set1)\n",
        "print(\"Unique in Set2:\", unique_set2)\n"
      ],
      "metadata": {
        "colab": {
          "base_uri": "https://localhost:8080/"
        },
        "id": "po1L6i6OH605",
        "outputId": "4bff023f-a0ef-48bb-e2e1-1a988fad5935"
      },
      "execution_count": 14,
      "outputs": [
        {
          "output_type": "stream",
          "name": "stdout",
          "text": [
            "Set 1: {1, 2, 3, 4, 5, 6}\n",
            "Set 2: {4, 5, 6, 7, 8, 9}\n",
            "\n",
            "Union (all elements): {1, 2, 3, 4, 5, 6, 7, 8, 9}\n",
            "Common elements (sum_common): {4, 5, 6}\n",
            "Unique in Set1: {1, 2, 3}\n",
            "Unique in Set2: {8, 9, 7}\n"
          ]
        }
      ]
    },
    {
      "cell_type": "markdown",
      "source": [
        "**5.Numpy**"
      ],
      "metadata": {
        "id": "hwlgUfio5XIs"
      }
    },
    {
      "cell_type": "markdown",
      "source": [
        " **6.Matplot Lib**"
      ],
      "metadata": {
        "id": "tEsV57Th5XQh"
      }
    }
  ]
}